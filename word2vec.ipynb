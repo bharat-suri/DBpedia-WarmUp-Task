{
 "cells": [
  {
   "cell_type": "code",
   "execution_count": 1,
   "metadata": {},
   "outputs": [],
   "source": [
    "from gensim.models import word2vec"
   ]
  },
  {
   "cell_type": "code",
   "execution_count": 2,
   "metadata": {},
   "outputs": [],
   "source": [
    "import logging"
   ]
  },
  {
   "cell_type": "code",
   "execution_count": 3,
   "metadata": {},
   "outputs": [],
   "source": [
    "logging.basicConfig(format='%(asctime)s : %(levelname)s : %(message)s', level=logging.INFO)"
   ]
  },
  {
   "cell_type": "code",
   "execution_count": 4,
   "metadata": {},
   "outputs": [],
   "source": [
    "sentences = word2vec.Text8Corpus('/Users/bharatsuri/Github/DBPedia/text8')"
   ]
  },
  {
   "cell_type": "code",
   "execution_count": 5,
   "metadata": {},
   "outputs": [
    {
     "name": "stderr",
     "output_type": "stream",
     "text": [
      "2018-03-03 09:18:02,798 : INFO : collecting all words and their counts\n",
      "2018-03-03 09:18:02,811 : INFO : PROGRESS: at sentence #0, processed 0 words, keeping 0 word types\n",
      "2018-03-03 09:18:09,667 : INFO : collected 253854 word types from a corpus of 17005207 raw words and 1701 sentences\n",
      "2018-03-03 09:18:09,668 : INFO : Loading a fresh vocabulary\n",
      "2018-03-03 09:18:09,985 : INFO : min_count=5 retains 71290 unique words (28% of original 253854, drops 182564)\n",
      "2018-03-03 09:18:09,986 : INFO : min_count=5 leaves 16718844 word corpus (98% of original 17005207, drops 286363)\n",
      "2018-03-03 09:18:10,211 : INFO : deleting the raw counts dictionary of 253854 items\n",
      "2018-03-03 09:18:10,222 : INFO : sample=0.001 downsamples 38 most-common words\n",
      "2018-03-03 09:18:10,223 : INFO : downsampling leaves estimated 12506280 word corpus (74.8% of prior 16718844)\n",
      "2018-03-03 09:18:10,497 : INFO : estimated required memory for 71290 words and 200 dimensions: 149709000 bytes\n",
      "2018-03-03 09:18:10,498 : INFO : resetting layer weights\n",
      "2018-03-03 09:18:11,736 : INFO : training model with 3 workers on 71290 vocabulary and 200 features, using sg=0 hs=0 sample=0.001 negative=5 window=5\n",
      "2018-03-03 09:18:12,759 : INFO : EPOCH 1 - PROGRESS: at 4.88% examples, 599893 words/s, in_qsize 5, out_qsize 0\n",
      "2018-03-03 09:18:13,763 : INFO : EPOCH 1 - PROGRESS: at 10.11% examples, 621052 words/s, in_qsize 5, out_qsize 0\n",
      "2018-03-03 09:18:14,765 : INFO : EPOCH 1 - PROGRESS: at 15.17% examples, 623353 words/s, in_qsize 5, out_qsize 0\n",
      "2018-03-03 09:18:15,772 : INFO : EPOCH 1 - PROGRESS: at 20.46% examples, 631748 words/s, in_qsize 5, out_qsize 0\n",
      "2018-03-03 09:18:16,774 : INFO : EPOCH 1 - PROGRESS: at 25.57% examples, 634197 words/s, in_qsize 5, out_qsize 0\n",
      "2018-03-03 09:18:17,779 : INFO : EPOCH 1 - PROGRESS: at 30.69% examples, 636007 words/s, in_qsize 5, out_qsize 0\n",
      "2018-03-03 09:18:18,800 : INFO : EPOCH 1 - PROGRESS: at 35.98% examples, 638956 words/s, in_qsize 5, out_qsize 0\n",
      "2018-03-03 09:18:19,810 : INFO : EPOCH 1 - PROGRESS: at 41.03% examples, 637345 words/s, in_qsize 6, out_qsize 0\n",
      "2018-03-03 09:18:20,818 : INFO : EPOCH 1 - PROGRESS: at 46.27% examples, 639111 words/s, in_qsize 5, out_qsize 0\n",
      "2018-03-03 09:18:21,822 : INFO : EPOCH 1 - PROGRESS: at 51.50% examples, 640613 words/s, in_qsize 5, out_qsize 0\n",
      "2018-03-03 09:18:22,825 : INFO : EPOCH 1 - PROGRESS: at 56.67% examples, 641413 words/s, in_qsize 5, out_qsize 0\n",
      "2018-03-03 09:18:23,832 : INFO : EPOCH 1 - PROGRESS: at 61.79% examples, 641078 words/s, in_qsize 5, out_qsize 0\n",
      "2018-03-03 09:18:24,835 : INFO : EPOCH 1 - PROGRESS: at 66.20% examples, 634106 words/s, in_qsize 6, out_qsize 0\n",
      "2018-03-03 09:18:25,855 : INFO : EPOCH 1 - PROGRESS: at 71.31% examples, 633923 words/s, in_qsize 6, out_qsize 0\n",
      "2018-03-03 09:18:26,865 : INFO : EPOCH 1 - PROGRESS: at 75.78% examples, 627878 words/s, in_qsize 5, out_qsize 0\n",
      "2018-03-03 09:18:27,870 : INFO : EPOCH 1 - PROGRESS: at 80.25% examples, 622902 words/s, in_qsize 5, out_qsize 0\n",
      "2018-03-03 09:18:28,885 : INFO : EPOCH 1 - PROGRESS: at 84.89% examples, 619819 words/s, in_qsize 6, out_qsize 0\n",
      "2018-03-03 09:18:29,892 : INFO : EPOCH 1 - PROGRESS: at 89.65% examples, 618360 words/s, in_qsize 5, out_qsize 0\n",
      "2018-03-03 09:18:30,916 : INFO : EPOCH 1 - PROGRESS: at 94.83% examples, 618817 words/s, in_qsize 5, out_qsize 0\n",
      "2018-03-03 09:18:31,899 : INFO : worker thread finished; awaiting finish of 2 more threads\n",
      "2018-03-03 09:18:31,901 : INFO : worker thread finished; awaiting finish of 1 more threads\n",
      "2018-03-03 09:18:31,912 : INFO : worker thread finished; awaiting finish of 0 more threads\n",
      "2018-03-03 09:18:31,913 : INFO : EPOCH - 1 : training on 17005207 raw words (12507737 effective words) took 20.2s, 620070 effective words/s\n",
      "2018-03-03 09:18:32,918 : INFO : EPOCH 2 - PROGRESS: at 5.06% examples, 631793 words/s, in_qsize 5, out_qsize 0\n",
      "2018-03-03 09:18:33,927 : INFO : EPOCH 2 - PROGRESS: at 10.35% examples, 639021 words/s, in_qsize 6, out_qsize 1\n",
      "2018-03-03 09:18:34,938 : INFO : EPOCH 2 - PROGRESS: at 15.64% examples, 643476 words/s, in_qsize 5, out_qsize 0\n",
      "2018-03-03 09:18:35,944 : INFO : EPOCH 2 - PROGRESS: at 20.99% examples, 649097 words/s, in_qsize 5, out_qsize 0\n",
      "2018-03-03 09:18:36,951 : INFO : EPOCH 2 - PROGRESS: at 25.69% examples, 637078 words/s, in_qsize 5, out_qsize 0\n",
      "2018-03-03 09:18:37,954 : INFO : EPOCH 2 - PROGRESS: at 30.10% examples, 623825 words/s, in_qsize 5, out_qsize 0\n",
      "2018-03-03 09:18:38,973 : INFO : EPOCH 2 - PROGRESS: at 34.80% examples, 618104 words/s, in_qsize 5, out_qsize 0\n",
      "2018-03-03 09:18:39,990 : INFO : EPOCH 2 - PROGRESS: at 39.21% examples, 608759 words/s, in_qsize 6, out_qsize 0\n",
      "2018-03-03 09:18:40,998 : INFO : EPOCH 2 - PROGRESS: at 43.80% examples, 604535 words/s, in_qsize 6, out_qsize 1\n",
      "2018-03-03 09:18:41,999 : INFO : EPOCH 2 - PROGRESS: at 48.15% examples, 598811 words/s, in_qsize 5, out_qsize 0\n",
      "2018-03-03 09:18:43,010 : INFO : EPOCH 2 - PROGRESS: at 53.32% examples, 602760 words/s, in_qsize 5, out_qsize 0\n",
      "2018-03-03 09:18:44,011 : INFO : EPOCH 2 - PROGRESS: at 57.50% examples, 596190 words/s, in_qsize 6, out_qsize 0\n",
      "2018-03-03 09:18:45,021 : INFO : EPOCH 2 - PROGRESS: at 62.43% examples, 597578 words/s, in_qsize 5, out_qsize 0\n",
      "2018-03-03 09:18:46,032 : INFO : EPOCH 2 - PROGRESS: at 67.49% examples, 599610 words/s, in_qsize 5, out_qsize 0\n",
      "2018-03-03 09:18:47,047 : INFO : EPOCH 2 - PROGRESS: at 72.55% examples, 601394 words/s, in_qsize 5, out_qsize 0\n",
      "2018-03-03 09:18:48,057 : INFO : EPOCH 2 - PROGRESS: at 77.19% examples, 598865 words/s, in_qsize 6, out_qsize 0\n",
      "2018-03-03 09:18:49,071 : INFO : EPOCH 2 - PROGRESS: at 82.25% examples, 600107 words/s, in_qsize 5, out_qsize 0\n",
      "2018-03-03 09:18:50,083 : INFO : EPOCH 2 - PROGRESS: at 87.42% examples, 602316 words/s, in_qsize 5, out_qsize 0\n",
      "2018-03-03 09:18:51,093 : INFO : EPOCH 2 - PROGRESS: at 92.71% examples, 605002 words/s, in_qsize 5, out_qsize 0\n",
      "2018-03-03 09:18:52,093 : INFO : EPOCH 2 - PROGRESS: at 97.88% examples, 606869 words/s, in_qsize 5, out_qsize 0\n",
      "2018-03-03 09:18:52,469 : INFO : worker thread finished; awaiting finish of 2 more threads\n",
      "2018-03-03 09:18:52,474 : INFO : worker thread finished; awaiting finish of 1 more threads\n",
      "2018-03-03 09:18:52,481 : INFO : worker thread finished; awaiting finish of 0 more threads\n",
      "2018-03-03 09:18:52,483 : INFO : EPOCH - 2 : training on 17005207 raw words (12506713 effective words) took 20.6s, 608157 effective words/s\n",
      "2018-03-03 09:18:53,504 : INFO : EPOCH 3 - PROGRESS: at 5.11% examples, 629131 words/s, in_qsize 5, out_qsize 0\n",
      "2018-03-03 09:18:54,512 : INFO : EPOCH 3 - PROGRESS: at 9.76% examples, 598046 words/s, in_qsize 5, out_qsize 0\n",
      "2018-03-03 09:18:55,527 : INFO : EPOCH 3 - PROGRESS: at 14.81% examples, 605430 words/s, in_qsize 6, out_qsize 0\n",
      "2018-03-03 09:18:56,545 : INFO : EPOCH 3 - PROGRESS: at 19.99% examples, 612974 words/s, in_qsize 5, out_qsize 1\n",
      "2018-03-03 09:18:57,558 : INFO : EPOCH 3 - PROGRESS: at 25.16% examples, 619014 words/s, in_qsize 5, out_qsize 0\n",
      "2018-03-03 09:18:58,567 : INFO : EPOCH 3 - PROGRESS: at 30.34% examples, 624263 words/s, in_qsize 5, out_qsize 0\n",
      "2018-03-03 09:18:59,568 : INFO : EPOCH 3 - PROGRESS: at 35.45% examples, 627431 words/s, in_qsize 5, out_qsize 0\n",
      "2018-03-03 09:19:00,589 : INFO : EPOCH 3 - PROGRESS: at 40.68% examples, 629369 words/s, in_qsize 6, out_qsize 0\n",
      "2018-03-03 09:19:01,604 : INFO : EPOCH 3 - PROGRESS: at 45.27% examples, 622539 words/s, in_qsize 6, out_qsize 1\n",
      "2018-03-03 09:19:02,606 : INFO : EPOCH 3 - PROGRESS: at 49.74% examples, 616402 words/s, in_qsize 5, out_qsize 0\n",
      "2018-03-03 09:19:03,612 : INFO : EPOCH 3 - PROGRESS: at 54.85% examples, 618465 words/s, in_qsize 5, out_qsize 0\n",
      "2018-03-03 09:19:04,623 : INFO : EPOCH 3 - PROGRESS: at 60.14% examples, 621645 words/s, in_qsize 5, out_qsize 0\n",
      "2018-03-03 09:19:05,624 : INFO : EPOCH 3 - PROGRESS: at 65.37% examples, 624113 words/s, in_qsize 6, out_qsize 0\n",
      "2018-03-03 09:19:06,641 : INFO : EPOCH 3 - PROGRESS: at 70.55% examples, 625167 words/s, in_qsize 6, out_qsize 0\n",
      "2018-03-03 09:19:07,666 : INFO : EPOCH 3 - PROGRESS: at 75.96% examples, 627018 words/s, in_qsize 5, out_qsize 0\n",
      "2018-03-03 09:19:08,668 : INFO : EPOCH 3 - PROGRESS: at 81.01% examples, 626745 words/s, in_qsize 4, out_qsize 1\n"
     ]
    },
    {
     "name": "stderr",
     "output_type": "stream",
     "text": [
      "2018-03-03 09:19:09,668 : INFO : EPOCH 3 - PROGRESS: at 86.13% examples, 627432 words/s, in_qsize 5, out_qsize 0\n",
      "2018-03-03 09:19:10,671 : INFO : EPOCH 3 - PROGRESS: at 91.30% examples, 628359 words/s, in_qsize 5, out_qsize 0\n",
      "2018-03-03 09:19:11,685 : INFO : EPOCH 3 - PROGRESS: at 96.53% examples, 629085 words/s, in_qsize 5, out_qsize 0\n",
      "2018-03-03 09:19:12,338 : INFO : worker thread finished; awaiting finish of 2 more threads\n",
      "2018-03-03 09:19:12,340 : INFO : worker thread finished; awaiting finish of 1 more threads\n",
      "2018-03-03 09:19:12,360 : INFO : worker thread finished; awaiting finish of 0 more threads\n",
      "2018-03-03 09:19:12,361 : INFO : EPOCH - 3 : training on 17005207 raw words (12505820 effective words) took 19.9s, 629279 effective words/s\n",
      "2018-03-03 09:19:13,365 : INFO : EPOCH 4 - PROGRESS: at 5.17% examples, 645539 words/s, in_qsize 5, out_qsize 0\n",
      "2018-03-03 09:19:14,383 : INFO : EPOCH 4 - PROGRESS: at 10.46% examples, 642749 words/s, in_qsize 5, out_qsize 0\n",
      "2018-03-03 09:19:15,400 : INFO : EPOCH 4 - PROGRESS: at 15.87% examples, 649618 words/s, in_qsize 5, out_qsize 0\n",
      "2018-03-03 09:19:16,405 : INFO : EPOCH 4 - PROGRESS: at 21.11% examples, 650210 words/s, in_qsize 5, out_qsize 0\n",
      "2018-03-03 09:19:17,405 : INFO : EPOCH 4 - PROGRESS: at 26.34% examples, 652128 words/s, in_qsize 5, out_qsize 0\n",
      "2018-03-03 09:19:18,406 : INFO : EPOCH 4 - PROGRESS: at 31.45% examples, 651414 words/s, in_qsize 5, out_qsize 0\n",
      "2018-03-03 09:19:19,408 : INFO : EPOCH 4 - PROGRESS: at 36.51% examples, 649593 words/s, in_qsize 5, out_qsize 0\n",
      "2018-03-03 09:19:20,415 : INFO : EPOCH 4 - PROGRESS: at 41.80% examples, 650648 words/s, in_qsize 5, out_qsize 0\n",
      "2018-03-03 09:19:21,416 : INFO : EPOCH 4 - PROGRESS: at 47.03% examples, 651448 words/s, in_qsize 5, out_qsize 0\n",
      "2018-03-03 09:19:22,418 : INFO : EPOCH 4 - PROGRESS: at 52.26% examples, 651728 words/s, in_qsize 5, out_qsize 0\n",
      "2018-03-03 09:19:23,421 : INFO : EPOCH 4 - PROGRESS: at 57.32% examples, 650202 words/s, in_qsize 5, out_qsize 0\n",
      "2018-03-03 09:19:24,437 : INFO : EPOCH 4 - PROGRESS: at 62.49% examples, 649199 words/s, in_qsize 5, out_qsize 0\n",
      "2018-03-03 09:19:25,456 : INFO : EPOCH 4 - PROGRESS: at 67.67% examples, 648167 words/s, in_qsize 4, out_qsize 1\n",
      "2018-03-03 09:19:26,469 : INFO : EPOCH 4 - PROGRESS: at 72.90% examples, 648298 words/s, in_qsize 5, out_qsize 0\n",
      "2018-03-03 09:19:27,488 : INFO : EPOCH 4 - PROGRESS: at 78.07% examples, 646264 words/s, in_qsize 5, out_qsize 0\n",
      "2018-03-03 09:19:28,495 : INFO : EPOCH 4 - PROGRESS: at 83.30% examples, 646383 words/s, in_qsize 5, out_qsize 0\n",
      "2018-03-03 09:19:29,503 : INFO : EPOCH 4 - PROGRESS: at 88.42% examples, 645711 words/s, in_qsize 5, out_qsize 0\n",
      "2018-03-03 09:19:30,505 : INFO : EPOCH 4 - PROGRESS: at 93.59% examples, 645516 words/s, in_qsize 5, out_qsize 0\n",
      "2018-03-03 09:19:31,507 : INFO : EPOCH 4 - PROGRESS: at 98.77% examples, 645360 words/s, in_qsize 5, out_qsize 0\n",
      "2018-03-03 09:19:31,732 : INFO : worker thread finished; awaiting finish of 2 more threads\n",
      "2018-03-03 09:19:31,739 : INFO : worker thread finished; awaiting finish of 1 more threads\n",
      "2018-03-03 09:19:31,744 : INFO : worker thread finished; awaiting finish of 0 more threads\n",
      "2018-03-03 09:19:31,745 : INFO : EPOCH - 4 : training on 17005207 raw words (12507407 effective words) took 19.4s, 645344 effective words/s\n",
      "2018-03-03 09:19:32,755 : INFO : EPOCH 5 - PROGRESS: at 5.11% examples, 635268 words/s, in_qsize 5, out_qsize 0\n",
      "2018-03-03 09:19:33,770 : INFO : EPOCH 5 - PROGRESS: at 10.35% examples, 635699 words/s, in_qsize 4, out_qsize 1\n",
      "2018-03-03 09:19:34,774 : INFO : EPOCH 5 - PROGRESS: at 15.23% examples, 625410 words/s, in_qsize 5, out_qsize 0\n",
      "2018-03-03 09:19:35,779 : INFO : EPOCH 5 - PROGRESS: at 18.99% examples, 586234 words/s, in_qsize 5, out_qsize 0\n",
      "2018-03-03 09:19:36,804 : INFO : EPOCH 5 - PROGRESS: at 23.16% examples, 571228 words/s, in_qsize 5, out_qsize 0\n",
      "2018-03-03 09:19:37,825 : INFO : EPOCH 5 - PROGRESS: at 27.63% examples, 568090 words/s, in_qsize 6, out_qsize 1\n",
      "2018-03-03 09:19:38,829 : INFO : EPOCH 5 - PROGRESS: at 32.16% examples, 568524 words/s, in_qsize 5, out_qsize 0\n",
      "2018-03-03 09:19:39,844 : INFO : EPOCH 5 - PROGRESS: at 37.10% examples, 574296 words/s, in_qsize 5, out_qsize 0\n",
      "2018-03-03 09:19:40,844 : INFO : EPOCH 5 - PROGRESS: at 42.15% examples, 580809 words/s, in_qsize 5, out_qsize 0\n",
      "2018-03-03 09:19:41,859 : INFO : EPOCH 5 - PROGRESS: at 47.33% examples, 586830 words/s, in_qsize 4, out_qsize 1\n",
      "2018-03-03 09:19:42,861 : INFO : EPOCH 5 - PROGRESS: at 52.44% examples, 591552 words/s, in_qsize 5, out_qsize 0\n",
      "2018-03-03 09:19:43,873 : INFO : EPOCH 5 - PROGRESS: at 57.55% examples, 595215 words/s, in_qsize 5, out_qsize 0\n",
      "2018-03-03 09:19:44,876 : INFO : EPOCH 5 - PROGRESS: at 62.67% examples, 598646 words/s, in_qsize 5, out_qsize 0\n",
      "2018-03-03 09:19:45,890 : INFO : EPOCH 5 - PROGRESS: at 67.55% examples, 598936 words/s, in_qsize 6, out_qsize 0\n",
      "2018-03-03 09:19:46,915 : INFO : EPOCH 5 - PROGRESS: at 72.19% examples, 596902 words/s, in_qsize 6, out_qsize 1\n",
      "2018-03-03 09:19:47,925 : INFO : EPOCH 5 - PROGRESS: at 76.60% examples, 593111 words/s, in_qsize 5, out_qsize 0\n",
      "2018-03-03 09:19:48,931 : INFO : EPOCH 5 - PROGRESS: at 81.78% examples, 595619 words/s, in_qsize 5, out_qsize 0\n",
      "2018-03-03 09:19:49,932 : INFO : EPOCH 5 - PROGRESS: at 86.95% examples, 598346 words/s, in_qsize 6, out_qsize 0\n",
      "2018-03-03 09:19:50,934 : INFO : EPOCH 5 - PROGRESS: at 92.18% examples, 601150 words/s, in_qsize 5, out_qsize 0\n",
      "2018-03-03 09:19:51,940 : INFO : EPOCH 5 - PROGRESS: at 96.24% examples, 596273 words/s, in_qsize 5, out_qsize 0\n",
      "2018-03-03 09:19:52,699 : INFO : worker thread finished; awaiting finish of 2 more threads\n",
      "2018-03-03 09:19:52,706 : INFO : worker thread finished; awaiting finish of 1 more threads\n",
      "2018-03-03 09:19:52,711 : INFO : worker thread finished; awaiting finish of 0 more threads\n",
      "2018-03-03 09:19:52,713 : INFO : EPOCH - 5 : training on 17005207 raw words (12504948 effective words) took 21.0s, 596502 effective words/s\n",
      "2018-03-03 09:19:52,714 : INFO : training on a 85026035 raw words (62532625 effective words) took 101.0s, 619293 effective words/s\n"
     ]
    }
   ],
   "source": [
    "model = word2vec.Word2Vec(sentences, size=200)"
   ]
  },
  {
   "cell_type": "code",
   "execution_count": 9,
   "metadata": {},
   "outputs": [
    {
     "name": "stderr",
     "output_type": "stream",
     "text": [
      "2018-03-03 09:27:53,395 : INFO : storing 71290x200 projection weights into model/text.model.bin\n"
     ]
    }
   ],
   "source": [
    "model.wv.save_word2vec_format('model/text.model.bin', binary=True)"
   ]
  },
  {
   "cell_type": "code",
   "execution_count": 10,
   "metadata": {},
   "outputs": [
    {
     "data": {
      "text/plain": [
       "[('baby', 0.8008732199668884),\n",
       " ('blonde', 0.7831367254257202),\n",
       " ('woman', 0.7509341835975647),\n",
       " ('kid', 0.7250588536262512),\n",
       " ('maid', 0.71551513671875),\n",
       " ('boy', 0.7115153074264526),\n",
       " ('girls', 0.694789469242096),\n",
       " ('kiss', 0.6855147480964661),\n",
       " ('lucy', 0.6837915182113647),\n",
       " ('mom', 0.6830562353134155)]"
      ]
     },
     "execution_count": 10,
     "metadata": {},
     "output_type": "execute_result"
    }
   ],
   "source": [
    "model.wv.most_similar(['girl'])"
   ]
  },
  {
   "cell_type": "code",
   "execution_count": 16,
   "metadata": {},
   "outputs": [
    {
     "data": {
      "text/plain": [
       "[('machine', 0.5538754463195801),\n",
       " ('person', 0.5223931074142456),\n",
       " ('programmer', 0.5113001465797424)]"
      ]
     },
     "execution_count": 16,
     "metadata": {},
     "output_type": "execute_result"
    }
   ],
   "source": [
    "model.wv.most_similar(['man', 'computer'], topn=3)"
   ]
  },
  {
   "cell_type": "code",
   "execution_count": 17,
   "metadata": {},
   "outputs": [
    {
     "data": {
      "text/plain": [
       "0.2517000331343704"
      ]
     },
     "execution_count": 17,
     "metadata": {},
     "output_type": "execute_result"
    }
   ],
   "source": [
    "model.wv.similarity('man', 'machine')"
   ]
  },
  {
   "cell_type": "code",
   "execution_count": 21,
   "metadata": {},
   "outputs": [
    {
     "data": {
      "text/plain": [
       "0.5232623193587956"
      ]
     },
     "execution_count": 21,
     "metadata": {},
     "output_type": "execute_result"
    }
   ],
   "source": [
    "model.wv.similarity('machine', 'computer')"
   ]
  },
  {
   "cell_type": "code",
   "execution_count": 22,
   "metadata": {},
   "outputs": [
    {
     "data": {
      "text/plain": [
       "0.6919765806322358"
      ]
     },
     "execution_count": 22,
     "metadata": {},
     "output_type": "execute_result"
    }
   ],
   "source": [
    "model.wv.similarity('car', 'truck')"
   ]
  },
  {
   "cell_type": "code",
   "execution_count": null,
   "metadata": {},
   "outputs": [],
   "source": []
  }
 ],
 "metadata": {
  "kernelspec": {
   "display_name": "Python 3",
   "language": "python",
   "name": "python3"
  },
  "language_info": {
   "codemirror_mode": {
    "name": "ipython",
    "version": 3
   },
   "file_extension": ".py",
   "mimetype": "text/x-python",
   "name": "python",
   "nbconvert_exporter": "python",
   "pygments_lexer": "ipython3",
   "version": "3.6.1"
  }
 },
 "nbformat": 4,
 "nbformat_minor": 2
}
